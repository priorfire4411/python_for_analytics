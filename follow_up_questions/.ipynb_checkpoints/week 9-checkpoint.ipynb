{
 "cells": [
  {
   "cell_type": "markdown",
   "metadata": {},
   "source": [
    "### find positions on regex search that returns multiple matches"
   ]
  },
  {
   "cell_type": "code",
   "execution_count": 1,
   "metadata": {},
   "outputs": [],
   "source": [
    "import re"
   ]
  },
  {
   "cell_type": "code",
   "execution_count": 5,
   "metadata": {},
   "outputs": [
    {
     "name": "stdout",
     "output_type": "stream",
     "text": [
      "[((0, 4), 'this'), ((22, 26), 'this'), ((31, 35), 'this'), ((54, 58), 'this')]\n"
     ]
    }
   ],
   "source": [
    "s = r\"this is some text for this and this is some more text this\"\n",
    "p = r\"th.s\"\n",
    "\n",
    "positions = [match.span() for  match in re.finditer(p,s)]\n",
    "matches = [match.group() for  match in re.finditer(p,s)]\n",
    "\n",
    "print(list(zip(positions,matches)))\n",
    "#for match in re.finditer(p, s):\n",
    "#    print(match.span(), match.group())"
   ]
  },
  {
   "cell_type": "markdown",
   "metadata": {},
   "source": [
    "### compile the regex for speed"
   ]
  },
  {
   "cell_type": "code",
   "execution_count": 8,
   "metadata": {},
   "outputs": [
    {
     "data": {
      "text/plain": [
       "<re.Match object; span=(0, 4), match='this'>"
      ]
     },
     "execution_count": 8,
     "metadata": {},
     "output_type": "execute_result"
    }
   ],
   "source": [
    "p = re.compile(r\"th.s\")\n",
    "p.match(s)"
   ]
  },
  {
   "cell_type": "code",
   "execution_count": 9,
   "metadata": {},
   "outputs": [
    {
     "data": {
      "text/plain": [
       "['this', 'this', 'this', 'this']"
      ]
     },
     "execution_count": 9,
     "metadata": {},
     "output_type": "execute_result"
    }
   ],
   "source": [
    "p = re.compile(r\"th.s\")\n",
    "p.findall(s)"
   ]
  },
  {
   "cell_type": "code",
   "execution_count": 10,
   "metadata": {},
   "outputs": [
    {
     "data": {
      "text/plain": [
       "<re.Match object; span=(0, 4), match='this'>"
      ]
     },
     "execution_count": 10,
     "metadata": {},
     "output_type": "execute_result"
    }
   ],
   "source": [
    "p = re.compile(r\"th.s\")\n",
    "p.search(s)"
   ]
  },
  {
   "cell_type": "code",
   "execution_count": 12,
   "metadata": {},
   "outputs": [
    {
     "name": "stdout",
     "output_type": "stream",
     "text": [
      "(0, 4) this\n",
      "(22, 26) this\n",
      "(31, 35) this\n",
      "(54, 58) this\n"
     ]
    }
   ],
   "source": [
    "for match in p.finditer(s):\n",
    "    print(match.span(), match.group())"
   ]
  },
  {
   "cell_type": "markdown",
   "metadata": {},
   "source": [
    "### [^] notation\n",
    "\n",
    "* If the first character of the set (set is refering when we use the brackets) is '^', all the characters that are not in the set will be matched. For example, [^5] will match any character except '5', and [^^] will match any character except '^'. ^ has no special meaning if it’s not the first character in the set.\n",
    "* https://docs.python.org/3.4/library/re.html"
   ]
  },
  {
   "cell_type": "markdown",
   "metadata": {},
   "source": [
    "### ^\n",
    "* Caret matches the start of the string\n",
    "* https://docs.python.org/3.4/library/re.html"
   ]
  },
  {
   "cell_type": "markdown",
   "metadata": {},
   "source": [
    "### GridSeach best_estimator\n",
    "* best_estimator_ : estimator\n",
    "    * Estimator that was chosen by the search, i.e. estimator which gave highest score (or smallest loss if specified) on the left out data. Not available if ``refit=False``."
   ]
  },
  {
   "cell_type": "markdown",
   "metadata": {},
   "source": [
    "### h2o AI hyper params\n",
    "* see below link to stackoverflow.  this address the info on how to get model params from h2o automl.\n",
    "* https://stackoverflow.com/questions/55081358/how-to-find-best-params-of-leader-model-in-automl-h2o-python"
   ]
  },
  {
   "cell_type": "code",
   "execution_count": null,
   "metadata": {},
   "outputs": [],
   "source": []
  }
 ],
 "metadata": {
  "kernelspec": {
   "display_name": "Python 3",
   "language": "python",
   "name": "python3"
  },
  "language_info": {
   "codemirror_mode": {
    "name": "ipython",
    "version": 3
   },
   "file_extension": ".py",
   "mimetype": "text/x-python",
   "name": "python",
   "nbconvert_exporter": "python",
   "pygments_lexer": "ipython3",
   "version": "3.7.4"
  }
 },
 "nbformat": 4,
 "nbformat_minor": 2
}
